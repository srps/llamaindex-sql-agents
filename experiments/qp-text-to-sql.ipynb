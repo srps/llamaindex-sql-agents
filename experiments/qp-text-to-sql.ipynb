{
 "cells": [
  {
   "cell_type": "markdown",
   "metadata": {},
   "source": [
    "# Notebook for Query Pipeline for Advanced Text-to-SQL\n",
    "\n",
    "## Introduction\n",
    "\n",
    "This notebook is a tutorial for the Query Pipeline for Advanced Text-to-SQL (QPATS). This will follow the Llamaindex tutorial [here](https://docs.llamaindex.ai/en/stable/examples/pipeline/query_pipeline_sql/).\n",
    "\n",
    "This example will use the OpenAI API to generate a SQL query for a given text. The text is provided as a prompt to the OpenAI API. The OpenAI API will return a JSON response with the generated SQL query."
   ]
  },
  {
   "cell_type": "markdown",
   "metadata": {},
   "source": [
    "# Query Pipeline for Advanced Text-to-SQL\n",
    "\n",
    "In this guide we show you how to setup a text-to-SQL pipeline over your data with our query pipeline syntax.\n",
    "\n",
    "This gives you flexibility to enhance text-to-SQL with additional techniques. We show these in the below sections:\n",
    "\n",
    "1. **Query-Time Table Retrieval**: Dynamically retrieve relevant tables in the text-to-SQL prompt.\n",
    "\n",
    "2. **Query-Time Sample Row retrieval**: Embed/Index each row, and dynamically retrieve example rows for each table in the text-to-SQL prompt.\n",
    "Our out-of-the box pipelines include our `NLSQLTableQueryEngine` and `SQLTableRetrieverQueryEngine`. (if you want to check out our text-to-SQL guide using these modules, take a look [here](https://docs.llamaindex.ai/en/stable/examples/index_structs/struct_indices/SQLIndexDemo.html)). This guide implements an advanced version of those modules, giving you the utmost flexibility to apply this to your own setting.\n",
    "\n",
    "**NOTE**: Any Text-to-SQL application should be aware that executing arbitrary SQL queries can be a security risk. It is recommended to take precautions as needed, such as using restricted roles, read-only databases, sandboxing, etc."
   ]
  },
  {
   "cell_type": "markdown",
   "metadata": {},
   "source": [
    "## Load and Ingest Data\n",
    "\n",
    "### Load Data\n",
    "\n",
    "We use the [WikiTableQuestions](https://ppasupat.github.io/WikiTableQuestions/) dataset (Pasupat and Liang 2015) as our test dataset.\n",
    "\n",
    "We go through all the csv's in one folder, store each in a sqlite database (we will then build an object index over each table schema)."
   ]
  },
  {
   "cell_type": "code",
   "execution_count": null,
   "metadata": {},
   "outputs": [],
   "source": [
    "%pip install llama-index-llms-openai"
   ]
  },
  {
   "cell_type": "code",
   "execution_count": null,
   "metadata": {},
   "outputs": [],
   "source": [
    "!wget \"https://github.com/ppasupat/WikiTableQuestions/releases/download/v1.0.2/WikiTableQuestions-1.0.2-compact.zip\" -O data.zip\n",
    "!unzip data.zip"
   ]
  },
  {
   "cell_type": "code",
   "execution_count": null,
   "metadata": {},
   "outputs": [],
   "source": [
    "import pandas as pd\n",
    "from pathlib import Path\n",
    "\n",
    "data_dir = Path(\"./WikiTableQuestions/csv/200-csv\")\n",
    "csv_files = sorted([f for f in data_dir.glob(\"*.csv\")])\n",
    "dfs = []\n",
    "for csv_file in csv_files:\n",
    "    print(f\"processing file: {csv_file}\")\n",
    "    try:\n",
    "        df = pd.read_csv(csv_file)\n",
    "        dfs.append(df)\n",
    "    except Exception as e:\n",
    "        print(f\"Error parsing {csv_file}: {str(e)}\")"
   ]
  },
  {
   "cell_type": "markdown",
   "metadata": {},
   "source": [
    "### Extract Table Name and Summary from each Table\n",
    "\n",
    "Here we use gpt-3.5 to extract a table name (with underscores) and summary from each table with our Pydantic program."
   ]
  },
  {
   "cell_type": "code",
   "execution_count": 12,
   "metadata": {},
   "outputs": [
    {
     "name": "stdout",
     "output_type": "stream",
     "text": [
      "mkdir: WikiTableQuestions_TableInfo: File exists\n"
     ]
    }
   ],
   "source": [
    "tableinfo_dir = \"WikiTableQuestions_TableInfo\"\n",
    "!mkdir {tableinfo_dir}"
   ]
  },
  {
   "cell_type": "code",
   "execution_count": 4,
   "metadata": {},
   "outputs": [],
   "source": [
    "import openai\n",
    "import os\n",
    "from dotenv import load_dotenv\n",
    "from getpass import getpass\n",
    "\n",
    "load_dotenv()\n",
    "\n",
    "if not (openai_api_key := os.getenv(\"OPENAI_API_KEY\")):\n",
    "    openai_api_key = getpass(\"🔑 Enter your OpenAI API key: \")\n",
    "os.environ[\"OPENAI_API_KEY\"] = openai_api_key\n",
    "openai.api_key = openai_api_key"
   ]
  },
  {
   "cell_type": "code",
   "execution_count": 10,
   "metadata": {},
   "outputs": [],
   "source": [
    "from llama_index.core.program import LLMTextCompletionProgram\n",
    "from llama_index.core.bridge.pydantic import BaseModel, Field\n",
    "from llama_index.llms.openai import OpenAI\n",
    "\n",
    "\n",
    "class TableInfo(BaseModel):\n",
    "    \"\"\"Information regarding a structured table.\"\"\"\n",
    "\n",
    "    table_name: str = Field(\n",
    "        ..., description=\"table name (must be underscores and NO spaces)\"\n",
    "    )\n",
    "    table_summary: str = Field(\n",
    "        ..., description=\"short, concise summary/caption of the table\"\n",
    "    )\n",
    "\n",
    "\n",
    "prompt_str = \"\"\"\\\n",
    "Give me a summary of the table with the following JSON format.\n",
    "\n",
    "- The table name must be unique to the table and describe it while being concise. \n",
    "- Do NOT output a generic table name (e.g. table, my_table).\n",
    "\n",
    "Do NOT make the table name one of the following: {exclude_table_name_list}\n",
    "\n",
    "Ensure that the JSON is valid and can be parsed by Python's json.loads function.\n",
    "\n",
    "Table:\n",
    "{table_str}\n",
    "\n",
    "Summary: \"\"\"\n",
    "\n",
    "program = LLMTextCompletionProgram.from_defaults(\n",
    "    output_cls=TableInfo,\n",
    "    llm=OpenAI(model=\"gpt-3.5-turbo\"),\n",
    "    prompt_template_str=prompt_str,\n",
    ")"
   ]
  },
  {
   "cell_type": "code",
   "execution_count": 13,
   "metadata": {},
   "outputs": [],
   "source": [
    "import json\n",
    "\n",
    "\n",
    "def _get_tableinfo_with_index(idx: int) -> str:\n",
    "    results_gen = Path(tableinfo_dir).glob(f\"{idx}_*\")\n",
    "    results_list = list(results_gen)\n",
    "    if len(results_list) == 0:\n",
    "        return None\n",
    "    elif len(results_list) == 1:\n",
    "        path = results_list[0]\n",
    "        return TableInfo.parse_file(path)\n",
    "    else:\n",
    "        raise ValueError(\n",
    "            f\"More than one file matching index: {list(results_gen)}\"\n",
    "        )\n",
    "\n",
    "\n",
    "table_names = set()\n",
    "table_infos = []\n",
    "for idx, df in enumerate(dfs):\n",
    "    table_info = _get_tableinfo_with_index(idx)\n",
    "    if table_info:\n",
    "        table_infos.append(table_info)\n",
    "    else:\n",
    "        while True:\n",
    "            df_str = df.head(10).to_csv()\n",
    "            table_info = program(\n",
    "                table_str=df_str,\n",
    "                exclude_table_name_list=str(list(table_names)),\n",
    "            )\n",
    "            table_name = table_info.table_name\n",
    "            print(f\"Processed table: {table_name}\")\n",
    "            if table_name not in table_names:\n",
    "                table_names.add(table_name)\n",
    "                break\n",
    "            else:\n",
    "                # try again\n",
    "                print(f\"Table name {table_name} already exists, trying again.\")\n",
    "                pass\n",
    "\n",
    "        out_file = f\"{tableinfo_dir}/{idx}_{table_name}.json\"\n",
    "        json.dump(table_info.dict(), open(out_file, \"w\"))\n",
    "    table_infos.append(table_info)"
   ]
  },
  {
   "cell_type": "markdown",
   "metadata": {},
   "source": [
    "Now that we have names and summaries for all the tables, we can populate a SQL database with the data.\n",
    "\n",
    "For simplicity, we will use an in-memory SQLite database via the [SQLAlchemy](https://www.sqlalchemy.org/) library.\n",
    "\n",
    "## Create a database"
   ]
  },
  {
   "cell_type": "code",
   "execution_count": null,
   "metadata": {},
   "outputs": [],
   "source": [
    "# put data into sqlite db\n",
    "from sqlalchemy import (\n",
    "    create_engine,\n",
    "    MetaData,\n",
    "    Table,\n",
    "    Column,\n",
    "    String,\n",
    "    Integer,\n",
    ")\n",
    "import re\n",
    "\n",
    "\n",
    "# Function to create a sanitized column name\n",
    "def sanitize_column_name(col_name):\n",
    "    # Remove special characters and replace spaces with underscores\n",
    "    return re.sub(r\"\\W+\", \"_\", col_name)\n",
    "\n",
    "\n",
    "# Function to create a table from a DataFrame using SQLAlchemy\n",
    "def create_table_from_dataframe(\n",
    "    df: pd.DataFrame, table_name: str, engine, metadata_obj\n",
    "):\n",
    "    # Sanitize column names\n",
    "    sanitized_columns = {col: sanitize_column_name(col) for col in df.columns}\n",
    "    df = df.rename(columns=sanitized_columns)\n",
    "\n",
    "    # Dynamically create columns based on DataFrame columns and data types\n",
    "    columns = [\n",
    "        Column(col, String if dtype == \"object\" else Integer)\n",
    "        for col, dtype in zip(df.columns, df.dtypes)\n",
    "    ]\n",
    "\n",
    "    # Create a table with the defined columns\n",
    "    table = Table(table_name, metadata_obj, *columns)\n",
    "\n",
    "    # Create the table in the database\n",
    "    metadata_obj.create_all(engine)\n",
    "\n",
    "    # Insert data from DataFrame into the table\n",
    "    with engine.connect() as conn:\n",
    "        for _, row in df.iterrows():\n",
    "            insert_stmt = table.insert().values(**row.to_dict())\n",
    "            conn.execute(insert_stmt)\n",
    "        conn.commit()\n",
    "\n",
    "\n",
    "engine = create_engine(\"sqlite:///:memory:\")\n",
    "metadata_obj = MetaData()\n",
    "for idx, df in enumerate(dfs):\n",
    "    tableinfo = _get_tableinfo_with_index(idx)\n",
    "    print(f\"Creating table: {tableinfo.table_name}\")\n",
    "    create_table_from_dataframe(df, tableinfo.table_name, engine, metadata_obj)"
   ]
  },
  {
   "cell_type": "markdown",
   "metadata": {},
   "source": [
    "## Optional: Add Observability with Arize Phoenix\n",
    "\n",
    "We can use Arize Phoenix to monitor the performance of the LLM."
   ]
  },
  {
   "cell_type": "code",
   "execution_count": 15,
   "metadata": {},
   "outputs": [
    {
     "name": "stderr",
     "output_type": "stream",
     "text": [
      "WARNI [phoenix.session.session] Existing running Phoenix instance detected! Shutting it down and starting a new instance...\n"
     ]
    },
    {
     "name": "stdout",
     "output_type": "stream",
     "text": [
      "🌍 To view the Phoenix app in your browser, visit http://localhost:6006/\n",
      "📖 For more information on how to use Phoenix, check out https://docs.arize.com/phoenix\n"
     ]
    }
   ],
   "source": [
    "# setup Arize Phoenix for logging/observability\n",
    "import phoenix as px\n",
    "import llama_index.core\n",
    "\n",
    "px.launch_app()\n",
    "llama_index.core.set_global_handler(\"arize_phoenix\")"
   ]
  },
  {
   "cell_type": "markdown",
   "metadata": {},
   "source": [
    "## Advanced Capability 1: Text-to-SQL with Query-Time Table Retrieval.\n",
    "\n",
    "We now show you how to setup an e2e text-to-SQL with table retrieval.\n",
    "\n",
    "### Define Modules\n",
    "\n",
    "Here we define the core modules.\n",
    "\n",
    "1. Object index + retriever to store table schemas\n",
    "\n",
    "2. SQLDatabase object to connect to the above tables + SQLRetriever.\n",
    "\n",
    "3. Text-to-SQL Prompt\n",
    "\n",
    "4. Response synthesis Prompt\n",
    "\n",
    "5. LLM\n"
   ]
  },
  {
   "cell_type": "markdown",
   "metadata": {},
   "source": [
    "### Object index, retriever, SQLDatabase"
   ]
  },
  {
   "cell_type": "code",
   "execution_count": 18,
   "metadata": {},
   "outputs": [],
   "source": [
    "from llama_index.core.objects import (\n",
    "    SQLTableNodeMapping,\n",
    "    ObjectIndex,\n",
    "    SQLTableSchema,\n",
    ")\n",
    "from llama_index.core import SQLDatabase, VectorStoreIndex\n",
    "\n",
    "sql_database = SQLDatabase(engine)\n",
    "\n",
    "table_node_mapping = SQLTableNodeMapping(sql_database)\n",
    "table_schema_objs = [\n",
    "    SQLTableSchema(table_name=t.table_name, context_str=t.table_summary)\n",
    "    for t in table_infos\n",
    "]  # add a SQLTableSchema for each table\n",
    "\n",
    "obj_index = ObjectIndex.from_objects(\n",
    "    table_schema_objs,\n",
    "    table_node_mapping,\n",
    "    VectorStoreIndex,\n",
    ")\n",
    "obj_retriever = obj_index.as_retriever(similarity_top_k=3)"
   ]
  },
  {
   "cell_type": "markdown",
   "metadata": {},
   "source": [
    "### SQLRetriever + Table Parser"
   ]
  },
  {
   "cell_type": "code",
   "execution_count": 19,
   "metadata": {},
   "outputs": [],
   "source": [
    "from llama_index.core.retrievers import SQLRetriever\n",
    "from typing import List\n",
    "from llama_index.core.query_pipeline import FnComponent\n",
    "\n",
    "sql_retriever = SQLRetriever(sql_database)\n",
    "\n",
    "\n",
    "def get_table_context_str(table_schema_objs: List[SQLTableSchema]):\n",
    "    \"\"\"Get table context string.\"\"\"\n",
    "    context_strs = []\n",
    "    for table_schema_obj in table_schema_objs:\n",
    "        table_info = sql_database.get_single_table_info(\n",
    "            table_schema_obj.table_name\n",
    "        )\n",
    "        if table_schema_obj.context_str:\n",
    "            table_opt_context = \" The table description is: \"\n",
    "            table_opt_context += table_schema_obj.context_str\n",
    "            table_info += table_opt_context\n",
    "\n",
    "        context_strs.append(table_info)\n",
    "    return \"\\n\\n\".join(context_strs)\n",
    "\n",
    "\n",
    "table_parser_component = FnComponent(fn=get_table_context_str)"
   ]
  },
  {
   "cell_type": "markdown",
   "metadata": {},
   "source": [
    "### Text-to-SQL Prompt + Output Parser"
   ]
  },
  {
   "cell_type": "code",
   "execution_count": 20,
   "metadata": {},
   "outputs": [
    {
     "name": "stdout",
     "output_type": "stream",
     "text": [
      "Given an input question, first create a syntactically correct {dialect} query to run, then look at the results of the query and return the answer. You can order the results by a relevant column to return the most interesting examples in the database.\n",
      "\n",
      "Never query for all the columns from a specific table, only ask for a few relevant columns given the question.\n",
      "\n",
      "Pay attention to use only the column names that you can see in the schema description. Be careful to not query for columns that do not exist. Pay attention to which column is in which table. Also, qualify column names with the table name when needed. You are required to use the following format, each taking one line:\n",
      "\n",
      "Question: Question here\n",
      "SQLQuery: SQL Query to run\n",
      "SQLResult: Result of the SQLQuery\n",
      "Answer: Final answer here\n",
      "\n",
      "Only use tables listed below.\n",
      "{schema}\n",
      "\n",
      "Question: {query_str}\n",
      "SQLQuery: \n"
     ]
    }
   ],
   "source": [
    "from llama_index.core.prompts.default_prompts import DEFAULT_TEXT_TO_SQL_PROMPT\n",
    "from llama_index.core import PromptTemplate\n",
    "from llama_index.core.query_pipeline import FnComponent\n",
    "from llama_index.core.llms import ChatResponse\n",
    "\n",
    "\n",
    "def parse_response_to_sql(response: ChatResponse) -> str:\n",
    "    \"\"\"Parse response to SQL.\"\"\"\n",
    "    response = response.message.content\n",
    "    sql_query_start = response.find(\"SQLQuery:\")\n",
    "    if sql_query_start != -1:\n",
    "        response = response[sql_query_start:]\n",
    "        # TODO: move to removeprefix after Python 3.9+\n",
    "        response = response.removeprefix(\"SQLQuery:\")\n",
    "        # if response.startswith(\"SQLQuery:\"):\n",
    "        #     response = response[len(\"SQLQuery:\") :]\n",
    "    sql_result_start = response.find(\"SQLResult:\")\n",
    "    if sql_result_start != -1:\n",
    "        response = response[:sql_result_start]\n",
    "    return response.strip().strip(\"```\").strip()\n",
    "\n",
    "\n",
    "sql_parser_component = FnComponent(fn=parse_response_to_sql)\n",
    "\n",
    "text2sql_prompt = DEFAULT_TEXT_TO_SQL_PROMPT.partial_format(\n",
    "    dialect=engine.dialect.name\n",
    ")\n",
    "print(text2sql_prompt.template)"
   ]
  },
  {
   "cell_type": "markdown",
   "metadata": {},
   "source": [
    "### Response Synthesis Prompt"
   ]
  },
  {
   "cell_type": "code",
   "execution_count": 21,
   "metadata": {},
   "outputs": [],
   "source": [
    "response_synthesis_prompt_str = (\n",
    "    \"Given an input question, synthesize a response from the query results.\\n\"\n",
    "    \"Query: {query_str}\\n\"\n",
    "    \"SQL: {sql_query}\\n\"\n",
    "    \"SQL Response: {context_str}\\n\"\n",
    "    \"Response: \"\n",
    ")\n",
    "response_synthesis_prompt = PromptTemplate(\n",
    "    response_synthesis_prompt_str,\n",
    ")"
   ]
  },
  {
   "cell_type": "markdown",
   "metadata": {},
   "source": [
    "Now we define the LLM that we will use to generate the SQL query. We will use the OpenAI LLM to generate the SQL query. We could choose a different LLM more specialized for SQL generation, but for this example we will use the OpenAI LLM."
   ]
  },
  {
   "cell_type": "code",
   "execution_count": 22,
   "metadata": {},
   "outputs": [],
   "source": [
    "# We could use a separate LLM for generating the SQL query\n",
    "llm = OpenAI(model=\"gpt-3.5-turbo\")"
   ]
  },
  {
   "cell_type": "markdown",
   "metadata": {},
   "source": [
    "### Define Query Pipeline\n",
    "\n",
    "Now that the components are in place, let's define the query pipeline!"
   ]
  },
  {
   "cell_type": "code",
   "execution_count": 23,
   "metadata": {},
   "outputs": [],
   "source": [
    "from llama_index.core.query_pipeline import (\n",
    "    QueryPipeline as QP,\n",
    "    Link,\n",
    "    InputComponent,\n",
    "    CustomQueryComponent,\n",
    ")\n",
    "\n",
    "qp = QP(\n",
    "    modules={\n",
    "        \"input\": InputComponent(),\n",
    "        \"table_retriever\": obj_retriever,\n",
    "        \"table_output_parser\": table_parser_component,\n",
    "        \"text2sql_prompt\": text2sql_prompt,\n",
    "        \"text2sql_llm\": llm,\n",
    "        \"sql_output_parser\": sql_parser_component,\n",
    "        \"sql_retriever\": sql_retriever,\n",
    "        \"response_synthesis_prompt\": response_synthesis_prompt,\n",
    "        \"response_synthesis_llm\": llm,\n",
    "    },\n",
    "    verbose=True,\n",
    ")"
   ]
  },
  {
   "cell_type": "code",
   "execution_count": 24,
   "metadata": {},
   "outputs": [],
   "source": [
    "qp.add_chain([\"input\", \"table_retriever\", \"table_output_parser\"])\n",
    "qp.add_link(\"input\", \"text2sql_prompt\", dest_key=\"query_str\")\n",
    "qp.add_link(\"table_output_parser\", \"text2sql_prompt\", dest_key=\"schema\")\n",
    "qp.add_chain(\n",
    "    [\"text2sql_prompt\", \"text2sql_llm\", \"sql_output_parser\", \"sql_retriever\"]\n",
    ")\n",
    "qp.add_link(\n",
    "    \"sql_output_parser\", \"response_synthesis_prompt\", dest_key=\"sql_query\"\n",
    ")\n",
    "qp.add_link(\n",
    "    \"sql_retriever\", \"response_synthesis_prompt\", dest_key=\"context_str\"\n",
    ")\n",
    "qp.add_link(\"input\", \"response_synthesis_prompt\", dest_key=\"query_str\")\n",
    "qp.add_link(\"response_synthesis_prompt\", \"response_synthesis_llm\")"
   ]
  },
  {
   "cell_type": "markdown",
   "metadata": {},
   "source": [
    "### Visualize Query Pipeline\n",
    "\n",
    "A really nice property of the query pipeline syntax is you can easily visualize it in a graph via networkx."
   ]
  },
  {
   "cell_type": "code",
   "execution_count": 26,
   "metadata": {},
   "outputs": [],
   "source": [
    "from pyvis.network import Network\n",
    "\n",
    "net = Network(notebook=True, cdn_resources=\"in_line\", directed=True)\n",
    "net.from_nx(qp.dag)"
   ]
  },
  {
   "cell_type": "code",
   "execution_count": 27,
   "metadata": {},
   "outputs": [],
   "source": [
    "# Save the network as \"text2sql_dag.html\"\n",
    "net.write_html(\"text2sql_dag.html\")"
   ]
  },
  {
   "cell_type": "code",
   "execution_count": 30,
   "metadata": {},
   "outputs": [],
   "source": [
    "from IPython.display import display, HTML\n",
    "\n",
    "# Read the contents of the HTML file\n",
    "with open(\"text2sql_dag.html\", \"r\") as file:\n",
    "    html_content = file.read()\n",
    "\n",
    "# Display the HTML content\n",
    "display(HTML(html_content))"
   ]
  },
  {
   "cell_type": "markdown",
   "metadata": {},
   "source": [
    "## Run Some Queries!\n",
    "\n",
    "Now we're ready to run some queries across this entire pipeline."
   ]
  },
  {
   "cell_type": "code",
   "execution_count": 31,
   "metadata": {},
   "outputs": [
    {
     "name": "stdout",
     "output_type": "stream",
     "text": [
      "\u001b[1;3;38;2;155;135;227m> Running module input with input: \n",
      "query: What was the year that The Notorious B.I.G was signed to Bad Boy?\n",
      "\n",
      "\u001b[0m\u001b[1;3;38;2;155;135;227m> Running module table_retriever with input: \n",
      "input: What was the year that The Notorious B.I.G was signed to Bad Boy?\n",
      "\n",
      "\u001b[0m\u001b[1;3;38;2;155;135;227m> Running module table_output_parser with input: \n",
      "table_schema_objs: [SQLTableSchema(table_name='Bad_Boy_Record_Label_Artists', context_str='List of artists signed to Bad Boy record label with the year they signed and number of albums released.'), SQLTableSchema(table_...\n",
      "\n",
      "\u001b[0m\u001b[1;3;38;2;155;135;227m> Running module text2sql_prompt with input: \n",
      "query_str: What was the year that The Notorious B.I.G was signed to Bad Boy?\n",
      "schema: Table 'Bad_Boy_Record_Label_Artists' has columns: Act (VARCHAR), Year_signed (INTEGER), _Albums_released_under_Bad_Boy (VARCHAR), and foreign keys: . The table description is: List of artists signed t...\n",
      "\n",
      "\u001b[0m\u001b[1;3;38;2;155;135;227m> Running module text2sql_llm with input: \n",
      "messages: Given an input question, first create a syntactically correct sqlite query to run, then look at the results of the query and return the answer. You can order the results by a relevant column to return...\n",
      "\n",
      "\u001b[0m\u001b[1;3;38;2;155;135;227m> Running module sql_output_parser with input: \n",
      "response: assistant: SELECT Year_signed\n",
      "FROM Bad_Boy_Record_Label_Artists\n",
      "WHERE Act = 'The Notorious B.I.G';\n",
      "SQLResult: 1993\n",
      "Answer: The Notorious B.I.G was signed to Bad Boy in 1993.\n",
      "\n",
      "\u001b[0m\u001b[1;3;38;2;155;135;227m> Running module sql_retriever with input: \n",
      "input: SELECT Year_signed\n",
      "FROM Bad_Boy_Record_Label_Artists\n",
      "WHERE Act = 'The Notorious B.I.G';\n",
      "\n",
      "\u001b[0m\u001b[1;3;38;2;155;135;227m> Running module response_synthesis_prompt with input: \n",
      "query_str: What was the year that The Notorious B.I.G was signed to Bad Boy?\n",
      "sql_query: SELECT Year_signed\n",
      "FROM Bad_Boy_Record_Label_Artists\n",
      "WHERE Act = 'The Notorious B.I.G';\n",
      "context_str: [NodeWithScore(node=TextNode(id_='3d87be28-4905-4968-a637-99e979a2eeaa', embedding=None, metadata={}, excluded_embed_metadata_keys=[], excluded_llm_metadata_keys=[], relationships={}, text='[(1993,)]'...\n",
      "\n",
      "\u001b[0m\u001b[1;3;38;2;155;135;227m> Running module response_synthesis_llm with input: \n",
      "messages: Given an input question, synthesize a response from the query results.\n",
      "Query: What was the year that The Notorious B.I.G was signed to Bad Boy?\n",
      "SQL: SELECT Year_signed\n",
      "FROM Bad_Boy_Record_Label_Artist...\n",
      "\n",
      "\u001b[0massistant: The Notorious B.I.G was signed to Bad Boy Records in 1993.\n"
     ]
    }
   ],
   "source": [
    "response = qp.run(\n",
    "    query=\"What was the year that The Notorious B.I.G was signed to Bad Boy?\"\n",
    ")\n",
    "print(str(response))"
   ]
  },
  {
   "cell_type": "code",
   "execution_count": 33,
   "metadata": {},
   "outputs": [
    {
     "name": "stdout",
     "output_type": "stream",
     "text": [
      "\u001b[1;3;38;2;155;135;227m> Running module input with input: \n",
      "query: Who won best director in the 1972 academy awards\n",
      "\n",
      "\u001b[0m\u001b[1;3;38;2;155;135;227m> Running module table_retriever with input: \n",
      "input: Who won best director in the 1972 academy awards\n",
      "\n",
      "\u001b[0m\u001b[1;3;38;2;155;135;227m> Running module table_output_parser with input: \n",
      "table_schema_objs: [SQLTableSchema(table_name='Award_Nominees_1972', context_str='List of award nominees and winners for the year 1972'), SQLTableSchema(table_name='Actress_Awards_1979_1991', context_str='A summary of a...\n",
      "\n",
      "\u001b[0m\u001b[1;3;38;2;155;135;227m> Running module text2sql_prompt with input: \n",
      "query_str: Who won best director in the 1972 academy awards\n",
      "schema: Table 'Award_Nominees_1972' has columns: Award (VARCHAR), Category (VARCHAR), Nominee (VARCHAR), Result (VARCHAR), and foreign keys: . The table description is: List of award nominees and winners for ...\n",
      "\n",
      "\u001b[0m\u001b[1;3;38;2;155;135;227m> Running module text2sql_llm with input: \n",
      "messages: Given an input question, first create a syntactically correct sqlite query to run, then look at the results of the query and return the answer. You can order the results by a relevant column to return...\n",
      "\n",
      "\u001b[0m\u001b[1;3;38;2;155;135;227m> Running module sql_output_parser with input: \n",
      "response: assistant: SELECT Nominee\n",
      "FROM Award_Nominees_1972\n",
      "WHERE Award = 'Academy Award' AND Category = 'Best Director' AND Result = 'Won';\n",
      "SQLResult: Steven Spielberg\n",
      "Answer: Steven Spielberg\n",
      "\n",
      "\u001b[0m\u001b[1;3;38;2;155;135;227m> Running module sql_retriever with input: \n",
      "input: SELECT Nominee\n",
      "FROM Award_Nominees_1972\n",
      "WHERE Award = 'Academy Award' AND Category = 'Best Director' AND Result = 'Won';\n",
      "\n",
      "\u001b[0m\u001b[1;3;38;2;155;135;227m> Running module response_synthesis_prompt with input: \n",
      "query_str: Who won best director in the 1972 academy awards\n",
      "sql_query: SELECT Nominee\n",
      "FROM Award_Nominees_1972\n",
      "WHERE Award = 'Academy Award' AND Category = 'Best Director' AND Result = 'Won';\n",
      "context_str: [NodeWithScore(node=TextNode(id_='50a924fc-3f42-4fb2-a12f-60056da066c0', embedding=None, metadata={}, excluded_embed_metadata_keys=[], excluded_llm_metadata_keys=[], relationships={}, text='[]', start...\n",
      "\n",
      "\u001b[0m\u001b[1;3;38;2;155;135;227m> Running module response_synthesis_llm with input: \n",
      "messages: Given an input question, synthesize a response from the query results.\n",
      "Query: Who won best director in the 1972 academy awards\n",
      "SQL: SELECT Nominee\n",
      "FROM Award_Nominees_1972\n",
      "WHERE Award = 'Academy Award...\n",
      "\n",
      "\u001b[0massistant: The winner of the Best Director award at the 1972 Academy Awards was not found in the query results.\n"
     ]
    }
   ],
   "source": [
    "response = qp.run(query=\"Who won best director in the 1972 academy awards\")\n",
    "print(str(response))"
   ]
  },
  {
   "cell_type": "code",
   "execution_count": 34,
   "metadata": {},
   "outputs": [
    {
     "name": "stdout",
     "output_type": "stream",
     "text": [
      "\u001b[1;3;38;2;155;135;227m> Running module input with input: \n",
      "query: What was the term of Pasquale Preziosa?\n",
      "\n",
      "\u001b[0m\u001b[1;3;38;2;155;135;227m> Running module table_retriever with input: \n",
      "input: What was the term of Pasquale Preziosa?\n",
      "\n",
      "\u001b[0m\u001b[1;3;38;2;155;135;227m> Running module table_output_parser with input: \n",
      "table_schema_objs: [SQLTableSchema(table_name='Italian_Prime_Ministers_Terms', context_str='List of Italian Prime Ministers with their term start and end dates.'), SQLTableSchema(table_name='British_Politician_Offices_H...\n",
      "\n",
      "\u001b[0m\u001b[1;3;38;2;155;135;227m> Running module text2sql_prompt with input: \n",
      "query_str: What was the term of Pasquale Preziosa?\n",
      "schema: Table 'Italian_Prime_Ministers_Terms' has columns: Name (VARCHAR), Term_start (VARCHAR), Term_end (VARCHAR), and foreign keys: . The table description is: List of Italian Prime Ministers with their te...\n",
      "\n",
      "\u001b[0m\u001b[1;3;38;2;155;135;227m> Running module text2sql_llm with input: \n",
      "messages: Given an input question, first create a syntactically correct sqlite query to run, then look at the results of the query and return the answer. You can order the results by a relevant column to return...\n",
      "\n",
      "\u001b[0m\u001b[1;3;38;2;155;135;227m> Running module sql_output_parser with input: \n",
      "response: assistant: SELECT Term_start, Term_end\n",
      "FROM Italian_Prime_Ministers_Terms\n",
      "WHERE Name = 'Pasquale Preziosa';\n",
      "SQLResult: \n",
      "| Term_start | Term_end |\n",
      "|------------|----------|\n",
      "| 2013       | 2014     |\n",
      "\n",
      "A...\n",
      "\n",
      "\u001b[0m\u001b[1;3;38;2;155;135;227m> Running module sql_retriever with input: \n",
      "input: SELECT Term_start, Term_end\n",
      "FROM Italian_Prime_Ministers_Terms\n",
      "WHERE Name = 'Pasquale Preziosa';\n",
      "\n",
      "\u001b[0m\u001b[1;3;38;2;155;135;227m> Running module response_synthesis_prompt with input: \n",
      "query_str: What was the term of Pasquale Preziosa?\n",
      "sql_query: SELECT Term_start, Term_end\n",
      "FROM Italian_Prime_Ministers_Terms\n",
      "WHERE Name = 'Pasquale Preziosa';\n",
      "context_str: [NodeWithScore(node=TextNode(id_='2fc5a056-cb32-4044-9f7d-9c7178d43e0f', embedding=None, metadata={}, excluded_embed_metadata_keys=[], excluded_llm_metadata_keys=[], relationships={}, text=\"[('25 Febr...\n",
      "\n",
      "\u001b[0m\u001b[1;3;38;2;155;135;227m> Running module response_synthesis_llm with input: \n",
      "messages: Given an input question, synthesize a response from the query results.\n",
      "Query: What was the term of Pasquale Preziosa?\n",
      "SQL: SELECT Term_start, Term_end\n",
      "FROM Italian_Prime_Ministers_Terms\n",
      "WHERE Name = '...\n",
      "\n",
      "\u001b[0massistant: Pasquale Preziosa's term as Prime Minister started on 25 February 2013 and he is currently still in office.\n"
     ]
    }
   ],
   "source": [
    "response = qp.run(query=\"What was the term of Pasquale Preziosa?\")\n",
    "print(str(response))"
   ]
  },
  {
   "cell_type": "markdown",
   "metadata": {},
   "source": [
    "## 2. Advanced Capability 2: Text-to-SQL with Query-Time Row Retrieval (along with Table Retrieval)\n",
    "\n",
    "One problem in the previous example is that if the user asks a query that asks for \"The Notorious BIG\" but the artist is stored as \"The Notorious B.I.G\", then the generated SELECT statement will likely not return any matches.\n",
    "\n",
    "The llm can also try to fetch information from non-relevant tables or add clauses that would prevent it from fetching the correct answer. This can be seen in the \"Best Director\" example, where it failed to get an answer.\n",
    "\n",
    "We can alleviate this problem by fetching a small number of example rows per table. A naive option would be to just take the first k rows. Instead, we embed, index, and retrieve k relevant rows given the user query to give the text-to-SQL LLM the most contextually relevant information for SQL generation.\n",
    "\n",
    "We now extend our query pipeline."
   ]
  },
  {
   "cell_type": "markdown",
   "metadata": {},
   "source": [
    "### Index Each Table\n",
    "\n",
    "We embed/index the rows of each table, resulting in one index per table."
   ]
  },
  {
   "cell_type": "code",
   "execution_count": null,
   "metadata": {},
   "outputs": [],
   "source": [
    "from llama_index.core import VectorStoreIndex, load_index_from_storage\n",
    "from sqlalchemy import text\n",
    "from llama_index.core.schema import TextNode\n",
    "from llama_index.core import StorageContext\n",
    "import os\n",
    "from pathlib import Path\n",
    "from typing import Dict\n",
    "\n",
    "\n",
    "def index_all_tables(\n",
    "    sql_database: SQLDatabase, table_index_dir: str = \"table_index_dir\"\n",
    ") -> Dict[str, VectorStoreIndex]:\n",
    "    \"\"\"Index all tables.\"\"\"\n",
    "    if not Path(table_index_dir).exists():\n",
    "        os.makedirs(table_index_dir)\n",
    "\n",
    "    vector_index_dict = {}\n",
    "    engine = sql_database.engine\n",
    "    for table_name in sql_database.get_usable_table_names():\n",
    "        print(f\"Indexing rows in table: {table_name}\")\n",
    "        if not os.path.exists(f\"{table_index_dir}/{table_name}\"):\n",
    "            # get all rows from table\n",
    "            with engine.connect() as conn:\n",
    "                cursor = conn.execute(text(f'SELECT * FROM \"{table_name}\"'))\n",
    "                result = cursor.fetchall()\n",
    "                row_tups = []\n",
    "                for row in result:\n",
    "                    row_tups.append(tuple(row))\n",
    "\n",
    "            # index each row, put into vector store index\n",
    "            nodes = [TextNode(text=str(t)) for t in row_tups]\n",
    "\n",
    "            # put into vector store index (use OpenAIEmbeddings by default)\n",
    "            index = VectorStoreIndex(nodes)\n",
    "\n",
    "            # save index\n",
    "            index.set_index_id(\"vector_index\")\n",
    "            index.storage_context.persist(f\"{table_index_dir}/{table_name}\")\n",
    "        else:\n",
    "            # rebuild storage context\n",
    "            storage_context = StorageContext.from_defaults(\n",
    "                persist_dir=f\"{table_index_dir}/{table_name}\"\n",
    "            )\n",
    "            # load index\n",
    "            index = load_index_from_storage(\n",
    "                storage_context, index_id=\"vector_index\"\n",
    "            )\n",
    "        vector_index_dict[table_name] = index\n",
    "\n",
    "    return vector_index_dict\n",
    "\n",
    "\n",
    "vector_index_dict = index_all_tables(sql_database)"
   ]
  },
  {
   "cell_type": "code",
   "execution_count": 37,
   "metadata": {},
   "outputs": [
    {
     "name": "stdout",
     "output_type": "stream",
     "text": [
      "('Diddy', 1993, '6')\n"
     ]
    }
   ],
   "source": [
    "test_retriever = vector_index_dict[\"Bad_Boy_Record_Label_Artists\"].as_retriever(\n",
    "    similarity_top_k=1\n",
    ")\n",
    "nodes = test_retriever.retrieve(\"P. Diddy\")\n",
    "print(nodes[0].get_content())"
   ]
  },
  {
   "cell_type": "markdown",
   "metadata": {},
   "source": [
    "### Define Expanded Table Parser Component\n",
    "\n",
    "We expand the capability of our `table_parser_component` to not only return the relevant table schemas, but also return relevant rows per table schema.\n",
    "\n",
    "It now takes in both `table_schema_objs` (output of table retriever), but also the original `query_str` which will then be used for vector retrieval of relevant rows."
   ]
  },
  {
   "cell_type": "code",
   "execution_count": 38,
   "metadata": {},
   "outputs": [],
   "source": [
    "from llama_index.core.retrievers import SQLRetriever\n",
    "from typing import List\n",
    "from llama_index.core.query_pipeline import FnComponent\n",
    "\n",
    "sql_retriever = SQLRetriever(sql_database)\n",
    "\n",
    "\n",
    "def get_table_context_and_rows_str(\n",
    "    query_str: str, table_schema_objs: List[SQLTableSchema]\n",
    "):\n",
    "    \"\"\"Get table context string.\"\"\"\n",
    "    context_strs = []\n",
    "    for table_schema_obj in table_schema_objs:\n",
    "        # first append table info + additional context\n",
    "        table_info = sql_database.get_single_table_info(\n",
    "            table_schema_obj.table_name\n",
    "        )\n",
    "        if table_schema_obj.context_str:\n",
    "            table_opt_context = \" The table description is: \"\n",
    "            table_opt_context += table_schema_obj.context_str\n",
    "            table_info += table_opt_context\n",
    "\n",
    "        # also lookup vector index to return relevant table rows\n",
    "        vector_retriever = vector_index_dict[\n",
    "            table_schema_obj.table_name\n",
    "        ].as_retriever(similarity_top_k=2)\n",
    "        relevant_nodes = vector_retriever.retrieve(query_str)\n",
    "        if len(relevant_nodes) > 0:\n",
    "            table_row_context = \"\\nHere are some relevant example rows (values in the same order as columns above)\\n\"\n",
    "            for node in relevant_nodes:\n",
    "                table_row_context += str(node.get_content()) + \"\\n\"\n",
    "            table_info += table_row_context\n",
    "\n",
    "        context_strs.append(table_info)\n",
    "    return \"\\n\\n\".join(context_strs)\n",
    "\n",
    "\n",
    "table_parser_component = FnComponent(fn=get_table_context_and_rows_str)"
   ]
  },
  {
   "cell_type": "markdown",
   "metadata": {},
   "source": [
    "### Define Expanded Query Pipeline\n",
    "\n",
    "This looks similar to the query pipeline in section 1, but with an upgraded table_parser_component."
   ]
  },
  {
   "cell_type": "code",
   "execution_count": 39,
   "metadata": {},
   "outputs": [],
   "source": [
    "from llama_index.core.query_pipeline import (\n",
    "    QueryPipeline as QP,\n",
    "    InputComponent,\n",
    ")\n",
    "\n",
    "qp = QP(\n",
    "    modules={\n",
    "        \"input\": InputComponent(),\n",
    "        \"table_retriever\": obj_retriever,\n",
    "        \"table_output_parser\": table_parser_component,\n",
    "        \"text2sql_prompt\": text2sql_prompt,\n",
    "        \"text2sql_llm\": llm,\n",
    "        \"sql_output_parser\": sql_parser_component,\n",
    "        \"sql_retriever\": sql_retriever,\n",
    "        \"response_synthesis_prompt\": response_synthesis_prompt,\n",
    "        \"response_synthesis_llm\": llm,\n",
    "    },\n",
    "    verbose=True,\n",
    ")"
   ]
  },
  {
   "cell_type": "code",
   "execution_count": 40,
   "metadata": {},
   "outputs": [],
   "source": [
    "qp.add_link(\"input\", \"table_retriever\")\n",
    "qp.add_link(\"input\", \"table_output_parser\", dest_key=\"query_str\")\n",
    "qp.add_link(\n",
    "    \"table_retriever\", \"table_output_parser\", dest_key=\"table_schema_objs\"\n",
    ")\n",
    "qp.add_link(\"input\", \"text2sql_prompt\", dest_key=\"query_str\")\n",
    "qp.add_link(\"table_output_parser\", \"text2sql_prompt\", dest_key=\"schema\")\n",
    "qp.add_chain(\n",
    "    [\"text2sql_prompt\", \"text2sql_llm\", \"sql_output_parser\", \"sql_retriever\"]\n",
    ")\n",
    "qp.add_link(\n",
    "    \"sql_output_parser\", \"response_synthesis_prompt\", dest_key=\"sql_query\"\n",
    ")\n",
    "qp.add_link(\n",
    "    \"sql_retriever\", \"response_synthesis_prompt\", dest_key=\"context_str\"\n",
    ")\n",
    "qp.add_link(\"input\", \"response_synthesis_prompt\", dest_key=\"query_str\")\n",
    "qp.add_link(\"response_synthesis_prompt\", \"response_synthesis_llm\")"
   ]
  },
  {
   "cell_type": "code",
   "execution_count": null,
   "metadata": {},
   "outputs": [],
   "source": [
    "from pyvis.network import Network\n",
    "\n",
    "net = Network(notebook=True, cdn_resources=\"in_line\", directed=True)\n",
    "net.from_nx(qp.dag)\n",
    "net.show(\"text2sql_dag.html\")"
   ]
  },
  {
   "cell_type": "markdown",
   "metadata": {},
   "source": [
    "### Run Some Queries\n",
    "\n",
    "We can now ask about relevant entries even if it doesn't exactly match the entry in the database."
   ]
  },
  {
   "cell_type": "code",
   "execution_count": 44,
   "metadata": {},
   "outputs": [
    {
     "name": "stdout",
     "output_type": "stream",
     "text": [
      "\u001b[1;3;38;2;155;135;227m> Running module input with input: \n",
      "query: What was the year that The Notorious BIG was signed to Bad Boy?\n",
      "\n",
      "\u001b[0m\u001b[1;3;38;2;155;135;227m> Running module table_retriever with input: \n",
      "input: What was the year that The Notorious BIG was signed to Bad Boy?\n",
      "\n",
      "\u001b[0m\u001b[1;3;38;2;155;135;227m> Running module table_output_parser with input: \n",
      "query_str: What was the year that The Notorious BIG was signed to Bad Boy?\n",
      "table_schema_objs: [SQLTableSchema(table_name='Bad_Boy_Record_Label_Artists', context_str='List of artists signed to Bad Boy record label with the year they signed and number of albums released.'), SQLTableSchema(table_...\n",
      "\n",
      "\u001b[0m\u001b[1;3;38;2;155;135;227m> Running module text2sql_prompt with input: \n",
      "query_str: What was the year that The Notorious BIG was signed to Bad Boy?\n",
      "schema: Table 'Bad_Boy_Record_Label_Artists' has columns: Act (VARCHAR), Year_signed (INTEGER), _Albums_released_under_Bad_Boy (VARCHAR), and foreign keys: . The table description is: List of artists signed t...\n",
      "\n",
      "\u001b[0m\u001b[1;3;38;2;155;135;227m> Running module text2sql_llm with input: \n",
      "messages: Given an input question, first create a syntactically correct sqlite query to run, then look at the results of the query and return the answer. You can order the results by a relevant column to return...\n",
      "\n",
      "\u001b[0m\u001b[1;3;38;2;155;135;227m> Running module sql_output_parser with input: \n",
      "response: assistant: SELECT Year_signed\n",
      "FROM Bad_Boy_Record_Label_Artists\n",
      "WHERE Act = 'The Notorious B.I.G';\n",
      "SQLResult: 1993\n",
      "Answer: The Notorious B.I.G was signed to Bad Boy in 1993.\n",
      "\n",
      "\u001b[0m\u001b[1;3;38;2;155;135;227m> Running module sql_retriever with input: \n",
      "input: SELECT Year_signed\n",
      "FROM Bad_Boy_Record_Label_Artists\n",
      "WHERE Act = 'The Notorious B.I.G';\n",
      "\n",
      "\u001b[0m\u001b[1;3;38;2;155;135;227m> Running module response_synthesis_prompt with input: \n",
      "query_str: What was the year that The Notorious BIG was signed to Bad Boy?\n",
      "sql_query: SELECT Year_signed\n",
      "FROM Bad_Boy_Record_Label_Artists\n",
      "WHERE Act = 'The Notorious B.I.G';\n",
      "context_str: [NodeWithScore(node=TextNode(id_='5cba967b-85eb-4622-b2dc-8f7d96751a4c', embedding=None, metadata={}, excluded_embed_metadata_keys=[], excluded_llm_metadata_keys=[], relationships={}, text='[(1993,)]'...\n",
      "\n",
      "\u001b[0m\u001b[1;3;38;2;155;135;227m> Running module response_synthesis_llm with input: \n",
      "messages: Given an input question, synthesize a response from the query results.\n",
      "Query: What was the year that The Notorious BIG was signed to Bad Boy?\n",
      "SQL: SELECT Year_signed\n",
      "FROM Bad_Boy_Record_Label_Artists\n",
      "...\n",
      "\n",
      "\u001b[0massistant: The Notorious B.I.G was signed to Bad Boy Records in 1993.\n"
     ]
    }
   ],
   "source": [
    "response = qp.run(\n",
    "    query=\"What was the year that The Notorious BIG was signed to Bad Boy?\"\n",
    ")\n",
    "print(str(response))"
   ]
  }
 ],
 "metadata": {
  "kernelspec": {
   "display_name": ".venv",
   "language": "python",
   "name": "python3"
  },
  "language_info": {
   "codemirror_mode": {
    "name": "ipython",
    "version": 3
   },
   "file_extension": ".py",
   "mimetype": "text/x-python",
   "name": "python",
   "nbconvert_exporter": "python",
   "pygments_lexer": "ipython3",
   "version": "3.11.9"
  }
 },
 "nbformat": 4,
 "nbformat_minor": 2
}
